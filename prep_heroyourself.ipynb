{
 "cells": [
  {
   "cell_type": "markdown",
   "metadata": {},
   "source": [
    "# General ideas  \n",
    "- gif is a impossible problem, so lets just create a normal video with a green bg and use some chrome keying\n",
    "- lay video over video with moviepy"
   ]
  },
  {
   "cell_type": "markdown",
   "metadata": {},
   "source": [
    "# First we read the coordinates file, and populate a list of lists with it."
   ]
  },
  {
   "cell_type": "code",
   "execution_count": 3,
   "metadata": {},
   "outputs": [],
   "source": [
    "with open('coordinates.txt') as f:\n",
    "    lines = f.read().splitlines()\n",
    "    \n",
    "coordinates = []\n",
    "for line in lines:\n",
    "    frame_coordinates = line.split(',')\n",
    "    frame_coordinates = list(map(int, frame_coordinates))\n",
    "    coordinates.append(frame_coordinates)"
   ]
  },
  {
   "cell_type": "markdown",
   "metadata": {},
   "source": [
    "# Than we paste the face according to those coordinates (one coordinate pair is for one frame/image)"
   ]
  },
  {
   "cell_type": "code",
   "execution_count": 4,
   "metadata": {},
   "outputs": [],
   "source": [
    "import os\n",
    "from PIL import Image\n",
    "\n",
    "filename_face = 'face.png'\n",
    "filename_bg = 'bg.png'\n",
    "face = Image.open(filename_face, 'r')\n",
    "bg = Image.open(filename_bg, 'r')\n",
    "\n",
    "counter = 0\n",
    "for coord in coordinates:\n",
    "    whole_img = Image.new('RGBA', (1280,720), (0, 0, 0, 0))\n",
    "    # whole_img.paste(bg, (0,0))\n",
    "    whole_img.paste(face, coord)\n",
    "    if counter < 10:\n",
    "        filename = '0{}'.format(counter)\n",
    "    else:\n",
    "        filename = '{}'.format(counter)\n",
    "    filepath = 'images/{}.png'.format(filename)\n",
    "    whole_img.save(filepath, format=\"png\")\n",
    "    counter+=1"
   ]
  },
  {
   "cell_type": "markdown",
   "metadata": {},
   "source": [
    "# Potential ways for video creation:\n",
    "- with imageio\n",
    "- with PIL (https://stackoverflow.com/questions/46850318/transparent-background-in-gif-using-python-imageio; https://note.nkmk.me/en/python-pillow-gif/)\n",
    "- with some python-api of ImageMagick(https://imagemagick.org/Usage/anim_basics/), probably: http://docs.wand-py.org/en/0.5.9/# )\n",
    "- opencv doesnt work - no support for gif"
   ]
  },
  {
   "cell_type": "markdown",
   "metadata": {},
   "source": [
    "# imageio has no transparency/alpha channel\n",
    "code: https://stackoverflow.com/questions/41228209/making-gif-from-images-using-imageio-in-python\n",
    "```python\n",
    "import os\n",
    "import imageio\n",
    "\n",
    "direc = 'images'\n",
    "files = os.listdir(direc)\n",
    "files.sort()\n",
    "images = []\n",
    "\n",
    "for file_name in files:\n",
    "    if file_name.endswith('.png'):\n",
    "        file_path = os.path.join(direc, file_name)\n",
    "        images.append(imageio.imread(file_path))\n",
    "imageio.mimsave('again_imageio.gif', images, fps=60, format='RGBA')\n",
    "```"
   ]
  },
  {
   "cell_type": "markdown",
   "metadata": {},
   "source": [
    "# problem with PIL: always the god damn error \"read of closed\" or sth like this, otherwise maybe perfect\n",
    "```python\n",
    "import glob\n",
    "import PIL\n",
    "frames = []\n",
    "imgs = glob.glob(\"images/*.png\")\n",
    "for i in imgs:\n",
    "    new_frame = Image.open(i)\n",
    "    frames.append(new_frame)\n",
    "\n",
    "# Save into a GIF file that loops foreve`\n",
    "frames[0].save('png_to_gif.gif', format='GIF',\n",
    "               append_images=frames[1:],\n",
    "               save_all=True,\n",
    "               duration=300, loop=0)\n",
    "```"
   ]
  },
  {
   "cell_type": "markdown",
   "metadata": {},
   "source": [
    "# problem with this approach: impossible (?) to delete the previous frame (result: \"stacking\" of images)\n",
    "```python\n",
    "from wand.image import Image\n",
    "from wand.display import display\n",
    "from wand.api import library\n",
    "import os\n",
    "\n",
    "\n",
    "with Image() as wand:\n",
    "    # Add new frames into sequance\n",
    "    direc = 'images'\n",
    "    files = os.listdir(direc)\n",
    "    files.sort()\n",
    "    for file in files:\n",
    "        if file.endswith('.png'):\n",
    "            path = 'images/{}'.format(file)\n",
    "            with Image(filename=path) as f:\n",
    "                f.delay = 1\n",
    "                wand.sequence.append(f)\n",
    "    # Set layer type\n",
    "    wand.type = 'optimize'\n",
    "    wand.save(filename='animated.gif')\n",
    "    \n",
    "\"\"\"    with Image() as new_gif:\n",
    "        # Tell new gif how to manage background\n",
    "        library.MagickSetOption(new_gif.wand, 'dispose', 'background')\n",
    "        img_path = 'animated.gif'\n",
    "        for img_path in input_images:\n",
    "            library.MagickReadImage(new_gif.wand, img_path)\n",
    "        new_gif.save(filename='alternative.gif')\"\"\"\n",
    "```"
   ]
  },
  {
   "cell_type": "code",
   "execution_count": 54,
   "metadata": {},
   "outputs": [],
   "source": [
    "#source: https://stackoverflow.com/questions/50387437/frames-not-disappearing-in-python-wand\n",
    "#problem: delay not specific enough\n",
    "#nested() is a crazy function, alternative being: https://docs.python.org/3/library/contextlib.html#contextlib.ExitStack\n",
    "# https://stackoverflow.com/questions/3024925/create-a-with-block-on-several-context-managers\n",
    "# current idea: use this way, but with crazy bg-color\n",
    "# problem with wand: delay only in 1/100s of seconds -> for a proper \n",
    "from wand.image import Image as Image2\n",
    "from wand.color import Color\n",
    "from wand.compat import nested\n",
    "\n",
    "\n",
    "\"\"\"nest_list = [Image2(), Image2(filename='images/00.png'), Image2(filename='images/04.png')]\n",
    "nest_gen = (x for x in nest_list)\n",
    "print(help(nested))\n",
    "with nested(nest_gen) as (wand, one, two):\"\"\"\n",
    "with nested(Image2(),\n",
    "            Image2(filename='images/00.png'),\n",
    "            Image2(filename='images/04.png')) as (wand, one, two):\n",
    "    width = max(one.width, two.width)\n",
    "    height = max(one.height, two.height)\n",
    "    # Rebuild images with full extent of frame\n",
    "    with Image2(width=width, height=height, background=Color('#00ff00')) as f1:\n",
    "        f1.composite(one, 0, 0)\n",
    "        wand.sequence.append(f1)\n",
    "    with Image2(width=width, height=height, background=Color('#00ff00')) as f2:\n",
    "        f2.composite(two, 0, 0)\n",
    "        wand.sequence.append(f2)\n",
    "    # Create progressive delay for each frame\n",
    "    for cursor in range(2):\n",
    "        with wand.sequence[cursor] as frame:\n",
    "            frame.delay = 10\n",
    "    wand.type = 'optimize'\n",
    "    wand.save(filename='animated_alt2.gif')"
   ]
  },
  {
   "cell_type": "code",
   "execution_count": 1,
   "metadata": {},
   "outputs": [
    {
     "ename": "AttributeError",
     "evalue": "'ExitStack' object has no attribute 'width'",
     "output_type": "error",
     "traceback": [
      "\u001b[0;31m---------------------------------------------------------------------------\u001b[0m",
      "\u001b[0;31mAttributeError\u001b[0m                            Traceback (most recent call last)",
      "\u001b[0;32m<ipython-input-1-43b197c09172>\u001b[0m in \u001b[0;36m<module>\u001b[0;34m\u001b[0m\n\u001b[1;32m     13\u001b[0m     \u001b[0;32mfor\u001b[0m \u001b[0mmgr\u001b[0m \u001b[0;32min\u001b[0m \u001b[0mctx_managers\u001b[0m\u001b[0;34m:\u001b[0m\u001b[0;34m\u001b[0m\u001b[0;34m\u001b[0m\u001b[0m\n\u001b[1;32m     14\u001b[0m         \u001b[0mstack\u001b[0m\u001b[0;34m.\u001b[0m\u001b[0menter_context\u001b[0m\u001b[0;34m(\u001b[0m\u001b[0mmgr\u001b[0m\u001b[0;34m)\u001b[0m\u001b[0;34m\u001b[0m\u001b[0;34m\u001b[0m\u001b[0m\n\u001b[0;32m---> 15\u001b[0;31m     \u001b[0mwidth\u001b[0m \u001b[0;34m=\u001b[0m \u001b[0mmax\u001b[0m\u001b[0;34m(\u001b[0m\u001b[0mstack\u001b[0m\u001b[0;34m.\u001b[0m\u001b[0mwidth\u001b[0m\u001b[0;34m,\u001b[0m \u001b[0mstack\u001b[0m\u001b[0;34m.\u001b[0m\u001b[0mwidth\u001b[0m\u001b[0;34m)\u001b[0m\u001b[0;34m\u001b[0m\u001b[0;34m\u001b[0m\u001b[0m\n\u001b[0m\u001b[1;32m     16\u001b[0m     \u001b[0mheight\u001b[0m \u001b[0;34m=\u001b[0m \u001b[0mmax\u001b[0m\u001b[0;34m(\u001b[0m\u001b[0mstack\u001b[0m\u001b[0;34m.\u001b[0m\u001b[0mheight\u001b[0m\u001b[0;34m,\u001b[0m \u001b[0mstack\u001b[0m\u001b[0;34m.\u001b[0m\u001b[0mheight\u001b[0m\u001b[0;34m)\u001b[0m\u001b[0;34m\u001b[0m\u001b[0;34m\u001b[0m\u001b[0m\n\u001b[1;32m     17\u001b[0m     \u001b[0;31m# Rebuild images with full extent of frame\u001b[0m\u001b[0;34m\u001b[0m\u001b[0;34m\u001b[0m\u001b[0;34m\u001b[0m\u001b[0m\n",
      "\u001b[0;31mAttributeError\u001b[0m: 'ExitStack' object has no attribute 'width'"
     ]
    }
   ],
   "source": [
    "from wand.image import Image as Image2\n",
    "from wand.color import Color\n",
    "from wand.compat import nested\n",
    "from contextlib import ExitStack\n",
    "\n",
    "\n",
    "\"\"\"pseudocode:\n",
    "with Image2() as wand:\n",
    "    with every imagefile:\n",
    "        for image in imagefiles:\n",
    "            get width (always the same)\n",
    "            get height (always the same)\n",
    "            with greenscreen:\n",
    "                gs.composite(image)\n",
    "                wand.sequence.append(gs)\n",
    "        for cursor in number_of_imagefiles:\n",
    "            add delay (same code as above)\n",
    "        wand.type = 'optimize'\n",
    "        wand.save(filename='something.gif')\n",
    "\"\"\"\n",
    "ctx_managers = [Image2(), Image2(filename='images/00.png'), Image2(filename='images/04.png')]\n",
    "with ExitStack() as stack:\n",
    "    for mgr in ctx_managers:\n",
    "        stack.enter_context(mgr)\n",
    "    width = max(stack.width, stack.width)\n",
    "    height = max(stack.height, stack.height)\n",
    "    # Rebuild images with full extent of frame\n",
    "    with Image2(width=width, height=height, background=Color('#00ff00')) as f1:\n",
    "        f1.composite(stack, 0, 0)\n",
    "    wand.sequence.append(f1)\n",
    "    # Create progressive delay for each frame\n",
    "    for cursor in range(2):\n",
    "        with wand.sequence[cursor] as frame:\n",
    "            frame.delay = 10\n",
    "    wand.type = 'optimize'\n",
    "    wand.save(filename='animated_alt2.gif')\n",
    "    \n",
    "with nested(Image2(),\n",
    "            Image2(filename='images/00.png'),\n",
    "            Image2(filename='images/04.png')) as (wand, one, two):\n",
    "    width = max(one.width, two.width)\n",
    "    height = max(one.height, two.height)\n",
    "    # Rebuild images with full extent of frame\n",
    "    with Image2(width=width, height=height, background=Color('#00ff00')) as f1:\n",
    "        f1.composite(one, 0, 0)\n",
    "        wand.sequence.append(f1)\n",
    "    with Image2(width=width, height=height, background=Color('#00ff00')) as f2:\n",
    "        f2.composite(two, 0, 0)\n",
    "        wand.sequence.append(f2)\n",
    "    # Create progressive delay for each frame\n",
    "    for cursor in range(2):\n",
    "        with wand.sequence[cursor] as frame:\n",
    "            frame.delay = 10\n",
    "    wand.type = 'optimize'\n",
    "    wand.save(filename='animated_alt2.gif')"
   ]
  },
  {
   "cell_type": "code",
   "execution_count": null,
   "metadata": {},
   "outputs": [],
   "source": []
  }
 ],
 "metadata": {
  "kernelspec": {
   "display_name": "Python 3",
   "language": "python",
   "name": "python3"
  },
  "language_info": {
   "codemirror_mode": {
    "name": "ipython",
    "version": 3
   },
   "file_extension": ".py",
   "mimetype": "text/x-python",
   "name": "python",
   "nbconvert_exporter": "python",
   "pygments_lexer": "ipython3",
   "version": "3.7.7"
  }
 },
 "nbformat": 4,
 "nbformat_minor": 4
}
