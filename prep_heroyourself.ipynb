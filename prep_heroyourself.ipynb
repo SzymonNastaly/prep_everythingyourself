{
 "cells": [
  {
   "cell_type": "markdown",
   "metadata": {},
   "source": [
    "# General ideas  \n",
    "- gif is a impossible problem, so lets just create a normal video with a green bg and use some chrome keying\n",
    "- lay video over video with moviepy"
   ]
  },
  {
   "cell_type": "markdown",
   "metadata": {},
   "source": [
    "# First we read the coordinates file, and populate a list of lists with it."
   ]
  },
  {
   "cell_type": "code",
   "execution_count": 3,
   "metadata": {},
   "outputs": [],
   "source": [
    "with open('coordinates.txt') as f:\n",
    "    lines = f.read().splitlines()\n",
    "    \n",
    "coordinates = []\n",
    "for line in lines:\n",
    "    frame_coordinates = line.split(',')\n",
    "    frame_coordinates = list(map(int, frame_coordinates))\n",
    "    coordinates.append(frame_coordinates)"
   ]
  },
  {
   "cell_type": "markdown",
   "metadata": {},
   "source": [
    "# Than we paste the face according to those coordinates (one coordinate frame is for one frame/picture)"
   ]
  },
  {
   "cell_type": "code",
   "execution_count": 4,
   "metadata": {},
   "outputs": [],
   "source": [
    "import os\n",
    "from PIL import Image\n",
    "\n",
    "filename_face = 'face.png'\n",
    "filename_bg = 'bg.png'\n",
    "face = Image.open(filename_face, 'r')\n",
    "bg = Image.open(filename_bg, 'r')\n",
    "\n",
    "counter = 0\n",
    "for coord in coordinates:\n",
    "    whole_img = Image.new('RGBA', (1280,720), (0, 0, 0, 0))\n",
    "    # whole_img.paste(bg, (0,0))\n",
    "    whole_img.paste(face, coord)\n",
    "    if counter < 10:\n",
    "        filename = '0{}'.format(counter)\n",
    "    else:\n",
    "        filename = '{}'.format(counter)\n",
    "    filepath = 'images/{}.png'.format(filename)\n",
    "    whole_img.save(filepath, format=\"png\")\n",
    "    counter+=1"
   ]
  },
  {
   "cell_type": "markdown",
   "metadata": {},
   "source": [
    "# Potential ways for video creation:\n",
    "- with imageio\n",
    "- with PIL (https://stackoverflow.com/questions/46850318/transparent-background-in-gif-using-python-imageio; https://note.nkmk.me/en/python-pillow-gif/)\n",
    "- with some python-api of ImageMagick(https://imagemagick.org/Usage/anim_basics/), probably: http://docs.wand-py.org/en/0.5.9/# )\n",
    "- opencv doesnt work - no support for gif"
   ]
  },
  {
   "cell_type": "code",
   "execution_count": 36,
   "metadata": {},
   "outputs": [
    {
     "ename": "RuntimeError",
     "evalue": "Format SGI-PIL cannot write in multi-image mode",
     "output_type": "error",
     "traceback": [
      "\u001b[0;31m---------------------------------------------------------------------------\u001b[0m",
      "\u001b[0;31mRuntimeError\u001b[0m                              Traceback (most recent call last)",
      "\u001b[0;32m<ipython-input-36-7fa39456ff43>\u001b[0m in \u001b[0;36m<module>\u001b[0;34m\u001b[0m\n\u001b[1;32m     11\u001b[0m         \u001b[0mfile_path\u001b[0m \u001b[0;34m=\u001b[0m \u001b[0mos\u001b[0m\u001b[0;34m.\u001b[0m\u001b[0mpath\u001b[0m\u001b[0;34m.\u001b[0m\u001b[0mjoin\u001b[0m\u001b[0;34m(\u001b[0m\u001b[0mdirec\u001b[0m\u001b[0;34m,\u001b[0m \u001b[0mfile_name\u001b[0m\u001b[0;34m)\u001b[0m\u001b[0;34m\u001b[0m\u001b[0m\n\u001b[1;32m     12\u001b[0m         \u001b[0mimages\u001b[0m\u001b[0;34m.\u001b[0m\u001b[0mappend\u001b[0m\u001b[0;34m(\u001b[0m\u001b[0mimageio\u001b[0m\u001b[0;34m.\u001b[0m\u001b[0mimread\u001b[0m\u001b[0;34m(\u001b[0m\u001b[0mfile_path\u001b[0m\u001b[0;34m)\u001b[0m\u001b[0;34m)\u001b[0m\u001b[0;34m\u001b[0m\u001b[0m\n\u001b[0;32m---> 13\u001b[0;31m \u001b[0mimageio\u001b[0m\u001b[0;34m.\u001b[0m\u001b[0mmimsave\u001b[0m\u001b[0;34m(\u001b[0m\u001b[0;34m'again_imageio.gif'\u001b[0m\u001b[0;34m,\u001b[0m \u001b[0mimages\u001b[0m\u001b[0;34m,\u001b[0m \u001b[0mfps\u001b[0m\u001b[0;34m=\u001b[0m\u001b[0;36m60\u001b[0m\u001b[0;34m,\u001b[0m \u001b[0mformat\u001b[0m\u001b[0;34m=\u001b[0m\u001b[0;34m'RGBA'\u001b[0m\u001b[0;34m)\u001b[0m\u001b[0;34m\u001b[0m\u001b[0m\n\u001b[0m",
      "\u001b[0;32m~/Documents/Businness/Programming/python/prep_heroyourself/env/lib/python3.6/site-packages/imageio/core/functions.py\u001b[0m in \u001b[0;36mmimwrite\u001b[0;34m(uri, ims, format, **kwargs)\u001b[0m\n\u001b[1;32m    395\u001b[0m     \"\"\"\n\u001b[1;32m    396\u001b[0m     \u001b[0;31m# Get writer\u001b[0m\u001b[0;34m\u001b[0m\u001b[0;34m\u001b[0m\u001b[0m\n\u001b[0;32m--> 397\u001b[0;31m     \u001b[0mwriter\u001b[0m \u001b[0;34m=\u001b[0m \u001b[0mget_writer\u001b[0m\u001b[0;34m(\u001b[0m\u001b[0muri\u001b[0m\u001b[0;34m,\u001b[0m \u001b[0mformat\u001b[0m\u001b[0;34m,\u001b[0m \u001b[0;34m\"I\"\u001b[0m\u001b[0;34m,\u001b[0m \u001b[0;34m**\u001b[0m\u001b[0mkwargs\u001b[0m\u001b[0;34m)\u001b[0m\u001b[0;34m\u001b[0m\u001b[0m\n\u001b[0m\u001b[1;32m    398\u001b[0m     \u001b[0mwritten\u001b[0m \u001b[0;34m=\u001b[0m \u001b[0;36m0\u001b[0m\u001b[0;34m\u001b[0m\u001b[0m\n\u001b[1;32m    399\u001b[0m \u001b[0;34m\u001b[0m\u001b[0m\n",
      "\u001b[0;32m~/Documents/Businness/Programming/python/prep_heroyourself/env/lib/python3.6/site-packages/imageio/core/functions.py\u001b[0m in \u001b[0;36mget_writer\u001b[0;34m(uri, format, mode, **kwargs)\u001b[0m\n\u001b[1;32m    229\u001b[0m \u001b[0;34m\u001b[0m\u001b[0m\n\u001b[1;32m    230\u001b[0m     \u001b[0;31m# Return its writer object\u001b[0m\u001b[0;34m\u001b[0m\u001b[0;34m\u001b[0m\u001b[0m\n\u001b[0;32m--> 231\u001b[0;31m     \u001b[0;32mreturn\u001b[0m \u001b[0mformat\u001b[0m\u001b[0;34m.\u001b[0m\u001b[0mget_writer\u001b[0m\u001b[0;34m(\u001b[0m\u001b[0mrequest\u001b[0m\u001b[0;34m)\u001b[0m\u001b[0;34m\u001b[0m\u001b[0m\n\u001b[0m\u001b[1;32m    232\u001b[0m \u001b[0;34m\u001b[0m\u001b[0m\n\u001b[1;32m    233\u001b[0m \u001b[0;34m\u001b[0m\u001b[0m\n",
      "\u001b[0;32m~/Documents/Businness/Programming/python/prep_heroyourself/env/lib/python3.6/site-packages/imageio/core/format.py\u001b[0m in \u001b[0;36mget_writer\u001b[0;34m(self, request)\u001b[0m\n\u001b[1;32m    181\u001b[0m             \u001b[0mmodename\u001b[0m \u001b[0;34m=\u001b[0m \u001b[0mMODENAMES\u001b[0m\u001b[0;34m.\u001b[0m\u001b[0mget\u001b[0m\u001b[0;34m(\u001b[0m\u001b[0mselect_mode\u001b[0m\u001b[0;34m,\u001b[0m \u001b[0mselect_mode\u001b[0m\u001b[0;34m)\u001b[0m\u001b[0;34m\u001b[0m\u001b[0m\n\u001b[1;32m    182\u001b[0m             raise RuntimeError(\n\u001b[0;32m--> 183\u001b[0;31m                 \u001b[0;34m\"Format %s cannot write in %s mode\"\u001b[0m \u001b[0;34m%\u001b[0m \u001b[0;34m(\u001b[0m\u001b[0mself\u001b[0m\u001b[0;34m.\u001b[0m\u001b[0mname\u001b[0m\u001b[0;34m,\u001b[0m \u001b[0mmodename\u001b[0m\u001b[0;34m)\u001b[0m\u001b[0;34m\u001b[0m\u001b[0m\n\u001b[0m\u001b[1;32m    184\u001b[0m             )\n\u001b[1;32m    185\u001b[0m         \u001b[0;32mreturn\u001b[0m \u001b[0mself\u001b[0m\u001b[0;34m.\u001b[0m\u001b[0mWriter\u001b[0m\u001b[0;34m(\u001b[0m\u001b[0mself\u001b[0m\u001b[0;34m,\u001b[0m \u001b[0mrequest\u001b[0m\u001b[0;34m)\u001b[0m\u001b[0;34m\u001b[0m\u001b[0m\n",
      "\u001b[0;31mRuntimeError\u001b[0m: Format SGI-PIL cannot write in multi-image mode"
     ]
    }
   ],
   "source": [
    "import os\n",
    "import imageio\n",
    "\n",
    "direc = 'images'\n",
    "files = os.listdir(direc)\n",
    "files.sort()\n",
    "images = []\n",
    "\n",
    "for file_name in files:\n",
    "    if file_name.endswith('.png'):\n",
    "        file_path = os.path.join(direc, file_name)\n",
    "        images.append(imageio.imread(file_path))\n",
    "imageio.mimsave('again_imageio.gif', images, fps=60, format='RGBA')"
   ]
  },
  {
   "cell_type": "markdown",
   "metadata": {},
   "source": [
    "# problem with PIL: always the god damn error \"read of closed\" or sth like this, otherwise maybe perfect\n",
    "```\n",
    "import glob\n",
    "import PIL\n",
    "frames = []\n",
    "imgs = glob.glob(\"images/*.png\")\n",
    "for i in imgs:\n",
    "    new_frame = Image.open(i)\n",
    "    frames.append(new_frame)\n",
    "\n",
    "# Save into a GIF file that loops foreve`\n",
    "frames[0].save('png_to_gif.gif', format='GIF',\n",
    "               append_images=frames[1:],\n",
    "               save_all=True,\n",
    "               duration=300, loop=0)\n",
    "```"
   ]
  },
  {
   "cell_type": "markdown",
   "metadata": {},
   "source": [
    "# problem with this approach: impossible (?) to delete the previous frame (result: \"stacking\" of images)\n",
    "```\n",
    "from wand.image import Image\n",
    "from wand.display import display\n",
    "from wand.api import library\n",
    "import os\n",
    "\n",
    "\n",
    "with Image() as wand:\n",
    "    # Add new frames into sequance\n",
    "    direc = 'images'\n",
    "    files = os.listdir(direc)\n",
    "    files.sort()\n",
    "    for file in files:\n",
    "        if file.endswith('.png'):\n",
    "            path = 'images/{}'.format(file)\n",
    "            with Image(filename=path) as f:\n",
    "                f.delay = 1\n",
    "                wand.sequence.append(f)\n",
    "    # Set layer type\n",
    "    wand.type = 'optimize'\n",
    "    wand.save(filename='animated.gif')\n",
    "    \n",
    "\"\"\"    with Image() as new_gif:\n",
    "        # Tell new gif how to manage background\n",
    "        library.MagickSetOption(new_gif.wand, 'dispose', 'background')\n",
    "        img_path = 'animated.gif'\n",
    "        for img_path in input_images:\n",
    "            library.MagickReadImage(new_gif.wand, img_path)\n",
    "        new_gif.save(filename='alternative.gif')\"\"\"\n",
    "```"
   ]
  },
  {
   "cell_type": "code",
   "execution_count": 54,
   "metadata": {},
   "outputs": [],
   "source": [
    "#source: https://stackoverflow.com/questions/50387437/frames-not-disappearing-in-python-wand\n",
    "#problem: delay not specific enough\n",
    "#nested() is a crazy function, alternative being: https://docs.python.org/3/library/contextlib.html#contextlib.ExitStack\n",
    "# current idea: use this way, but with crazy bg-color\n",
    "# problem with wand: delay only in 1/100s of seconds -> for a proper \n",
    "from wand.image import Image as Image2\n",
    "from wand.color import Color\n",
    "from wand.compat import nested\n",
    "\n",
    "\n",
    "\"\"\"nest_list = [Image2(), Image2(filename='images/00.png'), Image2(filename='images/04.png')]\n",
    "nest_gen = (x for x in nest_list)\n",
    "print(help(nested))\n",
    "with nested(nest_gen) as (wand, one, two):\"\"\"\n",
    "with nested(Image2(),\n",
    "            Image2(filename='images/00.png'),\n",
    "            Image2(filename='images/04.png')) as (wand, one, two):\n",
    "    width = max(one.width, two.width)\n",
    "    height = max(one.height, two.height)\n",
    "    # Rebuild images with full extent of frame\n",
    "    with Image2(width=width, height=height, background=Color('#00ff00')) as f1:\n",
    "        f1.composite(one, 0, 0)\n",
    "        wand.sequence.append(f1)\n",
    "    with Image2(width=width, height=height, background=Color('#00ff00')) as f2:\n",
    "        f2.composite(two, 0, 0)\n",
    "        wand.sequence.append(f2)\n",
    "    # Create progressive delay for each frame\n",
    "    for cursor in range(2):\n",
    "        with wand.sequence[cursor] as frame:\n",
    "            frame.delay = 10\n",
    "    wand.type = 'optimize'\n",
    "    wand.save(filename='animated_alt2.gif')"
   ]
  }
 ],
 "metadata": {
  "kernelspec": {
   "display_name": "Python 3",
   "language": "python",
   "name": "python3"
  },
  "language_info": {
   "codemirror_mode": {
    "name": "ipython",
    "version": 3
   },
   "file_extension": ".py",
   "mimetype": "text/x-python",
   "name": "python",
   "nbconvert_exporter": "python",
   "pygments_lexer": "ipython3",
   "version": "3.7.4"
  }
 },
 "nbformat": 4,
 "nbformat_minor": 4
}
